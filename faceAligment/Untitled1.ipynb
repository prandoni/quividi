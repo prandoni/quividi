{
 "cells": [
  {
   "cell_type": "code",
   "execution_count": 1,
   "metadata": {},
   "outputs": [],
   "source": [
    "%matplotlib inline\n",
    "import matplotlib\n",
    "import numpy as np\n",
    "import matplotlib.pyplot as plt\n",
    "from scipy import signal\n",
    "\n",
    "from __future__ import division\n",
    "import itertools\n",
    "import copy\n",
    "from collections import namedtuple"
   ]
  },
  {
   "cell_type": "code",
   "execution_count": 18,
   "metadata": {},
   "outputs": [
    {
     "name": "stdout",
     "output_type": "stream",
     "text": [
      "\n"
     ]
    }
   ],
   "source": [
    "class RTree:\n",
    "    def __init__(self, depth):\n",
    "        self.levels = depth - 1  # do not count leaves\n",
    "        self.num_leaves = 2 ** self.levels\n",
    "        self.num_nodes = self.num_leaves - 1\n",
    "\n",
    "    def train(self, data):\n",
    "        N = len(data)\n",
    "        TRIALS_PER_NODE = 20\n",
    "        \n",
    "        # initialize tree and go through nodes in order\n",
    "        ix = 0\n",
    "        self.node = [None, {'A': 0, 'B': N}]  # node indexing starts at 1\n",
    "        self.leaf = []\n",
    "        for level in xrange(0, self.levels):\n",
    "            for k in xrange(0, 2 ** level):\n",
    "                ix += 1\n",
    "                # select greedily the best split per node over N trials\n",
    "                best = {'err': 1e20, 'S': None}\n",
    "                A = self.node[ix]['A']\n",
    "                B = self.node[ix]['B']\n",
    "                for n in xrange(0, TRIALS_PER_NODE):\n",
    "                    S = int(np.floor(np.random.rand() * (A - B + 1)))\n",
    "                    ml = data[A:S].mean()\n",
    "                    mr = data[S:B].mean()\n",
    "                    err = np.square(data[A:S] - ml).mean() + np.square(data[S:B] - mr).mean()\n",
    "                    if err < best['err']:\n",
    "                        best = {'err': err, 'S': S}\n",
    "                # best split found :\n",
    "                if level == self.levels - 1:\n",
    "                    self.leaf.append(data[A:best['S']].mean())\n",
    "                    self.leaf.append(data[best['S']:B].mean())\n",
    "                    print self.leaf\n",
    "                else:    \n",
    "                    print 'node', ix, ':', A, B, best\n",
    "                    self.node[ix]['S'] = S\n",
    "                    self.node[2*ix] = {'A': A, 'B': S}\n",
    "                    self.node[2*ix+1] = {'A': S, 'B': B}\n",
    "        print \"*\",\n",
    "    print\n",
    "        \n",
    "        "
   ]
  },
  {
   "cell_type": "code",
   "execution_count": 19,
   "metadata": {},
   "outputs": [
    {
     "name": "stdout",
     "output_type": "stream",
     "text": [
      "[0.60995396705296778, -0.66349567110413499]\n",
      "*\n"
     ]
    }
   ],
   "source": [
    "POINTS = 500\n",
    "x = np.sin(np.arange(0, POINTS-1) * 2 * np.pi / POINTS)\n",
    "\n",
    "t =RTree(2)\n",
    "t.train(x)\n"
   ]
  },
  {
   "cell_type": "code",
   "execution_count": 6,
   "metadata": {},
   "outputs": [
    {
     "data": {
      "text/plain": [
       "[<matplotlib.lines.Line2D at 0x9b31c18>]"
      ]
     },
     "execution_count": 6,
     "metadata": {},
     "output_type": "execute_result"
    },
    {
     "data": {
      "image/png": "[encoded data removed]",
      "text/plain": [
       "<matplotlib.figure.Figure at 0x9a05278>"
      ]
     },
     "metadata": {},
     "output_type": "display_data"
    }
   ],
   "source": [
    "POINTS = 500\n",
    "x = np.sin(np.arange(0, POINTS-1) * 2 * np.pi / POINTS)\n",
    "\n",
    "plt.plot(x)"
   ]
  },
  {
   "cell_type": "code",
   "execution_count": null,
   "metadata": {},
   "outputs": [],
   "source": []
  }
 ],
 "metadata": {
  "kernelspec": {
   "display_name": "Python 2",
   "language": "python",
   "name": "python2"
  },
  "language_info": {
   "codemirror_mode": {
    "name": "ipython",
    "version": 2
   },
   "file_extension": ".py",
   "mimetype": "text/x-python",
   "name": "python",
   "nbconvert_exporter": "python",
   "pygments_lexer": "ipython2",
   "version": "2.7.11"
  }
 },
 "nbformat": 4,
 "nbformat_minor": 1
}
